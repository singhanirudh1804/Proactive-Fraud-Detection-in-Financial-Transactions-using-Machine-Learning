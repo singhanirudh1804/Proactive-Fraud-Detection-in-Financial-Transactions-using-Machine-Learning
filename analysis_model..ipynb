{
 "cells": [
  {
   "cell_type": "markdown",
   "id": "230b0234-d38a-4e56-9464-d8e2021c46ff",
   "metadata": {},
   "source": [
    "# Predicting Fraudulent Transactions"
   ]
  },
  {
   "cell_type": "markdown",
   "id": "341b2e6a-0821-480d-a34f-91c4a1252e6a",
   "metadata": {},
   "source": [
    "### IMPORTING LIBRARIES"
   ]
  },
  {
   "cell_type": "code",
   "execution_count": null,
   "id": "4228de46-15a8-4aa9-ac1f-caa83fd636bb",
   "metadata": {},
   "outputs": [
    {
     "ename": "",
     "evalue": "",
     "output_type": "error",
     "traceback": [
      "\u001b[1;31mRunning cells with 'Python 3.10.9' requires the ipykernel package.\n",
      "\u001b[1;31m<a href='command:jupyter.createPythonEnvAndSelectController'>Create a Python Environment</a> with the required packages."
     ]
    }
   ],
   "source": [
    "import pandas\n",
    "import pandas as pd\n",
    "import matplotlib.pyplot as plt\n",
    "import seaborn as sns"
   ]
  },
  {
   "cell_type": "code",
   "execution_count": null,
   "id": "df799bc8-4fa1-42f6-aba6-8ea4ece77c07",
   "metadata": {},
   "outputs": [],
   "source": [
    "# Suppress warnings and set plot style\n",
    "import warnings\n",
    "warnings.filterwarnings(\"ignore\")\n",
    "sns.set(style = \"whitegrid\")"
   ]
  },
  {
   "cell_type": "markdown",
   "id": "0ad2e38a-e2ae-4a38-ba51-a82b46c22f3f",
   "metadata": {},
   "source": [
    "### LOADING DATA"
   ]
  },
  {
   "cell_type": "code",
   "execution_count": null,
   "id": "41f41577-a174-47c5-be93-703535664382",
   "metadata": {},
   "outputs": [],
   "source": [
    "df = pd.read_csv(\"Fraud.csv\")"
   ]
  },
  {
   "cell_type": "markdown",
   "id": "d4241ba6-9465-4382-a977-73b55d924890",
   "metadata": {},
   "source": [
    "#### ADDING FLAGGED FRAUD BASED ON BUSINESS RULE"
   ]
  },
  {
   "cell_type": "code",
   "execution_count": null,
   "id": "e5f2f726-bd11-410b-a4ee-bcb9dfe3f7aa",
   "metadata": {},
   "outputs": [],
   "source": [
    "# Flag fraud where type == 'TRANSFER' and amount > 200\n",
    "df[\"isFlaggedFraud\"] = df.apply(\n",
    "    lambda row: 1 if row[\"type\"] == \"TRANSFER\" and row[\"amount\"] > 200 else 0,\n",
    "    axis=1\n",
    ")"
   ]
  },
  {
   "cell_type": "markdown",
   "id": "e94b1060-55ab-425a-9f26-9f63d1571a25",
   "metadata": {},
   "source": [
    "### EXPLORATORY ANALYSIS"
   ]
  },
  {
   "cell_type": "code",
   "execution_count": null,
   "id": "4ab1ea25-896a-4185-9a4c-dd359327027c",
   "metadata": {},
   "outputs": [],
   "source": [
    "df.head()"
   ]
  },
  {
   "cell_type": "code",
   "execution_count": null,
   "id": "1b639faa-02c6-4717-af8f-e4a91f72d84a",
   "metadata": {},
   "outputs": [],
   "source": [
    "df.info()"
   ]
  },
  {
   "cell_type": "code",
   "execution_count": null,
   "id": "004e585d-ed16-4c55-aeea-706f26a2cccc",
   "metadata": {},
   "outputs": [],
   "source": [
    "df.columns"
   ]
  },
  {
   "cell_type": "code",
   "execution_count": null,
   "id": "67de93a1-8578-4bc4-87b6-940a8fb0977e",
   "metadata": {},
   "outputs": [],
   "source": [
    "df[\"isFraud\"].value_counts()"
   ]
  },
  {
   "cell_type": "code",
   "execution_count": null,
   "id": "403b532a-def6-40ad-99da-25cf5ca03f90",
   "metadata": {},
   "outputs": [],
   "source": [
    "df[\"isFlaggedFraud\"].value_counts()"
   ]
  },
  {
   "cell_type": "code",
   "execution_count": null,
   "id": "3c55b15e-6387-4272-b845-f4c7ca2803c1",
   "metadata": {},
   "outputs": [],
   "source": [
    "df.isnull().sum().sum()"
   ]
  },
  {
   "cell_type": "code",
   "execution_count": null,
   "id": "327c64ec-b363-4063-8f92-f9ac562fd16d",
   "metadata": {},
   "outputs": [],
   "source": [
    "df.shape[0]"
   ]
  },
  {
   "cell_type": "code",
   "execution_count": null,
   "id": "60803f8a-5fbb-4fac-a5cf-b411c66b541a",
   "metadata": {},
   "outputs": [],
   "source": [
    "round((df[\"isFraud\"].value_counts()[1]/df.shape[0])*100,2)"
   ]
  },
  {
   "cell_type": "markdown",
   "id": "079daba3-2d29-4887-aad2-5802cd6e4437",
   "metadata": {},
   "source": [
    "### VISUALIZATION"
   ]
  },
  {
   "cell_type": "code",
   "execution_count": null,
   "id": "5e510ebd-730c-4aee-8cfb-1d9a1ac0465a",
   "metadata": {},
   "outputs": [],
   "source": [
    "sns.set(style=\"whitegrid\")\n",
    "plt.figure(figsize=(8, 5))\n",
    "\n",
    "# Plot with seaborn\n",
    "sns.countplot(data=df, x=\"type\", order=df[\"type\"].value_counts().index, palette=\"viridis\")\n",
    "plt.title(\"Distribution of Transaction Types\", fontsize=14, fontweight='bold')\n",
    "plt.xlabel(\"Transaction Type\", fontsize=12)\n",
    "plt.ylabel(\"Number of Transactions\", fontsize=12)\n",
    "\n",
    "# Annotate bars with values\n",
    "for p in plt.gca().patches:\n",
    "    height = p.get_height()\n",
    "    plt.gca().annotate(f'{height:,}', (p.get_x() + p.get_width() / 2., height),\n",
    "                       ha='center', va='bottom', fontsize=10, color='black')\n",
    "\n",
    "# Show plot\n",
    "plt.tight_layout()\n",
    "plt.show()\n"
   ]
  },
  {
   "cell_type": "code",
   "execution_count": null,
   "id": "9f09c752-d2b6-41e1-9d38-83d1e897f8fb",
   "metadata": {},
   "outputs": [],
   "source": [
    "fraud_by_type = df.groupby(\"type\")[\"isFraud\"].mean().sort_values(ascending=False)\n",
    "\n",
    "# Convert to DataFrame for seaborn\n",
    "fraud_df = fraud_by_type.reset_index()\n",
    "\n",
    "sns.set(style=\"whitegrid\")\n",
    "plt.figure(figsize=(8, 5))\n",
    "\n",
    "# Barplot with seaborn\n",
    "sns.barplot(data=fraud_df, x =\"type\", y= \"isFraud\", palette= \"Reds_r\")\n",
    "plt.title(\"Fraud Rate by Transaction Type\", fontsize =14, fontweight= 'bold')\n",
    "plt.xlabel(\"Transaction Type\", fontsize=12)\n",
    "plt.ylabel(\"Fraud Rate\", fontsize=12)\n",
    "\n",
    "# Annotate values on bars\n",
    "for p in plt.gca().patches:\n",
    "    height = p.get_height()\n",
    "    plt.gca().annotate(f'{height:.2%}', \n",
    "                       (p.get_x() + p.get_width() / 2., height),\n",
    "                       ha='center', va='bottom', fontsize=10)\n",
    "\n",
    "plt.tight_layout()\n",
    "plt.show()\n"
   ]
  },
  {
   "cell_type": "code",
   "execution_count": null,
   "id": "d25370b2-f777-445d-9ee9-156b084d4503",
   "metadata": {},
   "outputs": [],
   "source": [
    "df[\"amount\"].describe().astype(int)"
   ]
  },
  {
   "cell_type": "markdown",
   "id": "a899aac3-5991-49f0-ae63-fe71a3ec3feb",
   "metadata": {},
   "source": [
    "### Outliers"
   ]
  },
  {
   "cell_type": "code",
   "execution_count": null,
   "id": "e008719c-88b6-4af1-a369-fc5f3a70bed9",
   "metadata": {
    "scrolled": true
   },
   "outputs": [],
   "source": [
    "import numpy as np\n",
    "sns.set(style=\"whitegrid\")\n",
    "plt.figure(figsize=(8, 4))\n",
    "\n",
    "#histogram\n",
    "sns.histplot(np.log1p(df[\"amount\"]), bins=1000, kde=True, color = \"seagreen\", edgecolor =None)\n",
    "plt.title(\"Log-Scaled Transaction Amount Distribution\", fontsize=14, fontweight='bold')\n",
    "plt.xlabel(\"Log(Amount + 1)\", fontsize=12)\n",
    "plt.ylabel(\"Density\", fontsize=12)\n",
    "median_log = np.log1p(df[\"amount\"].median())\n",
    "plt.axvline(median_log, color='black', linestyle='--', linewidth=1.5, label='Median')\n",
    "plt.legend()\n",
    "\n",
    "plt.tight_layout()\n",
    "plt.show()"
   ]
  },
  {
   "cell_type": "code",
   "execution_count": null,
   "id": "1cd4407f-1eee-4ef7-b489-e018b2e48d44",
   "metadata": {},
   "outputs": [],
   "source": [
    "plt.figure(figsize=(8, 5))\n",
    "sns.set(style=\"whitegrid\")\n",
    "\n",
    "# Boxplot\n",
    "sns.boxplot(data=df[df[\"amount\"] < 30000], x=\"isFraud\", y=\"amount\", palette=[\"skyblue\", \"salmon\"])\n",
    "plt.title(\"Transaction Amount by Fraud Status (Filtered under ₹30k)\", fontsize=14, fontweight='bold')\n",
    "plt.xlabel(\"Fraudulent (0 = No, 1 = Yes)\", fontsize=12)\n",
    "plt.ylabel(\"Transaction Amount\", fontsize=12)\n",
    "\n",
    "plt.grid(True, linestyle='--', alpha=0.5)\n",
    "plt.tight_layout()\n",
    "\n",
    "plt.show()\n"
   ]
  },
  {
   "cell_type": "markdown",
   "id": "b9186168-d8cf-4e8c-ac1d-2e5162f76200",
   "metadata": {},
   "source": [
    "### FEATURE ENGINEERING"
   ]
  },
  {
   "cell_type": "code",
   "execution_count": null,
   "id": "c172f3ce-8372-416f-b50b-e6d1b1ad35bd",
   "metadata": {},
   "outputs": [],
   "source": [
    "df[\"balanceDiffOrig\"] = df [\"oldbalanceOrg\"] - df[\"newbalanceOrig\"]\n",
    "df[\"balanceDiffDest\"] = df[\"newbalanceDest\"] =  df[\"oldbalanceDest\"]"
   ]
  },
  {
   "cell_type": "code",
   "execution_count": null,
   "id": "7d4e234e-37b7-464e-94a3-1e79ed70b26e",
   "metadata": {},
   "outputs": [],
   "source": [
    "(df[\"balanceDiffOrig\"] <0).sum()"
   ]
  },
  {
   "cell_type": "code",
   "execution_count": null,
   "id": "91db97ad-40ab-4633-af82-4b5b537be0fa",
   "metadata": {},
   "outputs": [],
   "source": [
    "(df[\"balanceDiffDest\"] <0).sum()"
   ]
  },
  {
   "cell_type": "code",
   "execution_count": null,
   "id": "a519bc5d-29b7-4de6-b6ae-5a48d4949c87",
   "metadata": {},
   "outputs": [],
   "source": [
    "df.head(5)"
   ]
  },
  {
   "cell_type": "markdown",
   "id": "a249ff58-a5d5-4c8b-b319-ea473dfb1279",
   "metadata": {},
   "source": [
    "#### FRAUD OVER TIME"
   ]
  },
  {
   "cell_type": "code",
   "execution_count": null,
   "id": "53df6604-2ca4-42df-8e61-f03236024d75",
   "metadata": {},
   "outputs": [],
   "source": [
    "frauds_per_step = df[df[\"isFraud\"] ==1][\"step\"].value_counts().sort_index()\n",
    "plt.plot(frauds_per_step.index, frauds_per_step.values, label = \"Frauds per Step\")\n",
    "plt.xlabel(\"Step(Time)\")\n",
    "plt.ylabel(\"Number of Fruads\")\n",
    "plt.title(\"Fruads Over Time\")\n",
    "plt.grid(True)\n",
    "plt.show()"
   ]
  },
  {
   "cell_type": "code",
   "execution_count": null,
   "id": "e3d70a3b-b013-46ae-8ade-0c65a5480772",
   "metadata": {},
   "outputs": [],
   "source": [
    "df.drop(columns = \"step\",inplace=True)"
   ]
  },
  {
   "cell_type": "code",
   "execution_count": null,
   "id": "5b2ebd5e-ee9c-4040-8b43-258d4af04868",
   "metadata": {},
   "outputs": [],
   "source": [
    "df.head()"
   ]
  },
  {
   "cell_type": "code",
   "execution_count": null,
   "id": "b66d757f-ea6f-4831-93ee-d9f82a595610",
   "metadata": {},
   "outputs": [],
   "source": [
    "top_senders = df[\"nameOrig\"].value_counts().head(10)"
   ]
  },
  {
   "cell_type": "code",
   "execution_count": null,
   "id": "f9792df2-2ebb-450c-bad4-e950e4b71aca",
   "metadata": {},
   "outputs": [],
   "source": [
    "print(\"Top Senders:\\n\", top_senders)"
   ]
  },
  {
   "cell_type": "code",
   "execution_count": null,
   "id": "dfe5a063-595e-49cc-9099-fe14f28c4da7",
   "metadata": {},
   "outputs": [],
   "source": [
    "top_receivers = df[\"nameDest\"].value_counts().head(10)"
   ]
  },
  {
   "cell_type": "code",
   "execution_count": null,
   "id": "8da89d0f-1d9a-463d-9a7f-c4df0d6af130",
   "metadata": {},
   "outputs": [],
   "source": [
    "print(\"Top Receivers:\\n\", top_receivers)"
   ]
  },
  {
   "cell_type": "code",
   "execution_count": null,
   "id": "5bf6f466-06c6-40d2-b1fc-1f033c5bcf6a",
   "metadata": {},
   "outputs": [],
   "source": [
    "fraud_users = df[df[\"isFraud\"]==1] [\"nameOrig\"].value_counts().head(10)"
   ]
  },
  {
   "cell_type": "code",
   "execution_count": null,
   "id": "377f21d8-a5c5-440b-a3d0-0b4ceb92dd94",
   "metadata": {},
   "outputs": [],
   "source": [
    "print(\"Top Fraudulent Users:\\n\", fraud_users)"
   ]
  },
  {
   "cell_type": "markdown",
   "id": "6fad796d-380a-4799-8899-44122301ba15",
   "metadata": {},
   "source": [
    "#### FOCUS ON TRANSFER & CASH_OUT"
   ]
  },
  {
   "cell_type": "code",
   "execution_count": null,
   "id": "b1530259-7396-4b12-9328-b7c8dfc5b837",
   "metadata": {},
   "outputs": [],
   "source": [
    "fraud_types = df[df[\"type\"].isin([\"TRANSFER\",\"CASH_OUT\"])]"
   ]
  },
  {
   "cell_type": "code",
   "execution_count": null,
   "id": "62638cc8-6d2a-42c0-b826-2bd71922931e",
   "metadata": {},
   "outputs": [],
   "source": [
    "fraud_types[\"type\"].value_counts()"
   ]
  },
  {
   "cell_type": "code",
   "execution_count": null,
   "id": "1a7c1eed-d638-4585-83a8-76a2dc045e5a",
   "metadata": {},
   "outputs": [],
   "source": [
    "plt.figure(figsize=(8, 5))\n",
    "sns.countplot(data = fraud_types, x=\"type\", hue= \"isFraud\", palette =\"Set2\")\n",
    "\n",
    "plt.title(\"Fraud Distribution in Transfer & Cash_Out\", fontsize= 14, fontweight ='bold')\n",
    "plt.xlabel(\"Transaction Type\", fontsize= 12)\n",
    "plt.ylabel(\"Transaction Count\", fontsize= 12)\n",
    "plt.legend(title=\"Is Fraud?\", labels=[\"Not Fraud\", \"Fraud\"])\n",
    "plt.grid(axis='y', linestyle='--', alpha=0.3)\n",
    "plt.tight_layout()\n",
    "plt.show()\n"
   ]
  },
  {
   "cell_type": "code",
   "execution_count": null,
   "id": "c36de939-acf2-4d26-b9dd-2c9b1d4bcd65",
   "metadata": {},
   "outputs": [],
   "source": [
    "corr = df[['amount', 'oldbalanceOrg', 'newbalanceOrig','oldbalanceDest', 'newbalanceDest', 'isFraud']].corr()"
   ]
  },
  {
   "cell_type": "code",
   "execution_count": null,
   "id": "97d055bc-9722-413d-be1d-b56e8582ab2c",
   "metadata": {},
   "outputs": [],
   "source": [
    "corr"
   ]
  },
  {
   "cell_type": "markdown",
   "id": "144d5117-7bb3-49a8-96ec-8a086dd5569b",
   "metadata": {},
   "source": [
    "### CORRELATION HEATMAP"
   ]
  },
  {
   "cell_type": "code",
   "execution_count": null,
   "id": "cedb3df3-7b41-4151-b746-ca1e54023652",
   "metadata": {},
   "outputs": [],
   "source": [
    "sns.heatmap(corr, annot = True, cmap = \"BuPu\", fmt=\".2f\")\n",
    "plt.title(\"Correlation Matrix\")\n",
    "plt.show()"
   ]
  },
  {
   "cell_type": "markdown",
   "id": "a263c33d-220c-447b-811c-c59de0333b27",
   "metadata": {},
   "source": [
    "#### ZERO BALANCE AFTER TRANSFER"
   ]
  },
  {
   "cell_type": "code",
   "execution_count": null,
   "id": "0edd6c9b-7543-4b62-bb54-a4340b6ccdd2",
   "metadata": {},
   "outputs": [],
   "source": [
    "zero_after_transfer = df[\n",
    "    (df[\"oldbalanceOrg\"]>0)&\n",
    "    (df[\"newbalanceOrig\"] == 0)&\n",
    "    (df[\"type\"].isin([\"TRANSFER\", \"CASH_OUT\"]))\n",
    "]"
   ]
  },
  {
   "cell_type": "code",
   "execution_count": null,
   "id": "1d8ae053-693c-414a-b35e-e6e55c07164a",
   "metadata": {},
   "outputs": [],
   "source": [
    "len(zero_after_transfer)"
   ]
  },
  {
   "cell_type": "code",
   "execution_count": null,
   "id": "a69421b1-5397-491d-a85d-2ef2d733a06f",
   "metadata": {},
   "outputs": [],
   "source": [
    "zero_after_transfer.head()"
   ]
  },
  {
   "cell_type": "code",
   "execution_count": null,
   "id": "9128a562-a224-448d-b537-4e464a4b89f4",
   "metadata": {},
   "outputs": [],
   "source": [
    "df[\"isFraud\"].value_counts()"
   ]
  },
  {
   "cell_type": "markdown",
   "id": "d08c2c60-acfb-46d6-b7db-0f6f4b086677",
   "metadata": {},
   "source": [
    "### MACHINE LEARNING MODELING"
   ]
  },
  {
   "cell_type": "code",
   "execution_count": null,
   "id": "3e38ec76-87a4-4576-ac62-397764b160fe",
   "metadata": {},
   "outputs": [],
   "source": [
    "from sklearn.model_selection import train_test_split\n",
    "from sklearn.preprocessing import StandardScaler\n",
    "from sklearn.linear_model import LogisticRegression\n",
    "from sklearn.metrics import classification_report, confusion_matrix\n",
    "from sklearn.pipeline import Pipeline\n",
    "from sklearn.compose import ColumnTransformer\n",
    "from sklearn.preprocessing import OneHotEncoder"
   ]
  },
  {
   "cell_type": "code",
   "execution_count": null,
   "id": "59eda46a-ecdc-42c5-bb88-649eb6262316",
   "metadata": {},
   "outputs": [],
   "source": [
    "df.head()"
   ]
  },
  {
   "cell_type": "code",
   "execution_count": null,
   "id": "2bde43c0-ea1b-4903-bc55-f4d644e77f18",
   "metadata": {},
   "outputs": [],
   "source": [
    "df_model = df.drop([\"nameOrig\", \"nameDest\", \"isFlaggedFraud\"], axis =1)"
   ]
  },
  {
   "cell_type": "code",
   "execution_count": null,
   "id": "39371ac9-5da3-44df-afed-f7d8e42afc42",
   "metadata": {},
   "outputs": [],
   "source": [
    "df_model.head()"
   ]
  },
  {
   "cell_type": "code",
   "execution_count": null,
   "id": "c7ad424c-8720-4042-8275-7297ac7b1a74",
   "metadata": {},
   "outputs": [],
   "source": [
    "categorical = [\"type\"]\n",
    "numeric = [\"amount\",\"oldbalanceOrg\", \"newbalanceOrig\", \"oldbalanceDest\",\"newbalanceDest\"]"
   ]
  },
  {
   "cell_type": "markdown",
   "id": "c848af29-1829-4d5d-8014-4d0b43b7514d",
   "metadata": {},
   "source": [
    "## Training & Testing"
   ]
  },
  {
   "cell_type": "code",
   "execution_count": null,
   "id": "f27f769e-5b5c-4075-b213-0c73a1dae0f6",
   "metadata": {},
   "outputs": [],
   "source": [
    "# Target and features\n",
    "y = df_model[\"isFraud\"]\n",
    "X = df_model.drop(\"isFraud\", axis = 1)"
   ]
  },
  {
   "cell_type": "code",
   "execution_count": null,
   "id": "72eafc53-3ceb-46c3-90d4-e3830586e8de",
   "metadata": {},
   "outputs": [],
   "source": [
    "# Train-test split with stratification\n",
    "X_train, X_test, y_train, y_test = train_test_split(X,y, test_size = 0.3, stratify=y)"
   ]
  },
  {
   "cell_type": "code",
   "execution_count": null,
   "id": "deb1231e-8715-435e-a4e0-8ada0db0443e",
   "metadata": {},
   "outputs": [],
   "source": [
    "# Preprocessing pipeline\n",
    "preprocessor = ColumnTransformer(\n",
    "    transformers= [\n",
    "        (\"num\", StandardScaler(), numeric),\n",
    "        (\"cat\", OneHotEncoder(drop=\"first\"),categorical)\n",
    "    ],\n",
    "    remainder = \"drop\"\n",
    ")"
   ]
  },
  {
   "cell_type": "code",
   "execution_count": null,
   "id": "3947b8f5-14df-487d-9297-bbf1525ee4e8",
   "metadata": {},
   "outputs": [],
   "source": [
    "# Preprocessing pipeline\n",
    "pipeline = Pipeline([\n",
    "    (\"prep\",preprocessor),\n",
    "    (\"clf\", LogisticRegression(class_weight= \"balanced\", max_iter=1000))\n",
    "])"
   ]
  },
  {
   "cell_type": "code",
   "execution_count": null,
   "id": "2110ea21-cf84-4365-9179-a18f7416f8c1",
   "metadata": {},
   "outputs": [],
   "source": [
    "# Train the model\n",
    "pipeline.fit(X_train, y_train)"
   ]
  },
  {
   "cell_type": "code",
   "execution_count": null,
   "id": "0155cbe1-4088-47ad-bc54-0454b4915b71",
   "metadata": {},
   "outputs": [],
   "source": [
    "# Predictions\n",
    "y_pred = pipeline.predict(X_test)"
   ]
  },
  {
   "cell_type": "code",
   "execution_count": null,
   "id": "7322b2fe-9a02-4ec6-a2b3-111d141fef3b",
   "metadata": {},
   "outputs": [],
   "source": [
    "print(classification_report(y_test, y_pred))"
   ]
  },
  {
   "cell_type": "code",
   "execution_count": null,
   "id": "a569fad7-73ca-47fd-9201-7affed02cb36",
   "metadata": {},
   "outputs": [],
   "source": [
    "print(\"Confusion Matrix:\\n\", confusion_matrix(y_test, y_pred))"
   ]
  },
  {
   "cell_type": "code",
   "execution_count": null,
   "id": "06d9d473-9186-4df4-b1f7-d97c10d06f30",
   "metadata": {},
   "outputs": [],
   "source": [
    "pipeline.score(X_test, y_test)*100"
   ]
  },
  {
   "cell_type": "code",
   "execution_count": null,
   "id": "39147ca5-e29e-4675-b571-9de2911b7b44",
   "metadata": {},
   "outputs": [],
   "source": [
    "import joblib"
   ]
  },
  {
   "cell_type": "code",
   "execution_count": null,
   "id": "494b83d0-ba30-4181-91cb-47a2cf605a07",
   "metadata": {},
   "outputs": [],
   "source": [
    "joblib.dump(pipeline,\"Fraud_detection_pipeline.pkl\")"
   ]
  },
  {
   "cell_type": "code",
   "execution_count": null,
   "id": "32a99f65-d5ec-4550-871f-9acbd229ad57",
   "metadata": {},
   "outputs": [],
   "source": []
  }
 ],
 "metadata": {
  "kernelspec": {
   "display_name": "Python 3",
   "language": "python",
   "name": "python3"
  },
  "language_info": {
   "codemirror_mode": {
    "name": "ipython",
    "version": 3
   },
   "file_extension": ".py",
   "mimetype": "text/x-python",
   "name": "python",
   "nbconvert_exporter": "python",
   "pygments_lexer": "ipython3",
   "version": "3.10.9"
  }
 },
 "nbformat": 4,
 "nbformat_minor": 5
}
